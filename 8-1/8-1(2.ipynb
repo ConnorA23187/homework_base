{
 "cells": [
  {
   "cell_type": "code",
   "execution_count": 32,
   "id": "initial_id",
   "metadata": {
    "collapsed": true,
    "ExecuteTime": {
     "end_time": "2025-08-04T14:25:18.568372500Z",
     "start_time": "2025-08-04T14:25:18.526325300Z"
    }
   },
   "outputs": [
    {
     "name": "stdout",
     "output_type": "stream",
     "text": [
      "<class 'pandas.core.frame.DataFrame'>\n",
      "RangeIndex: 891 entries, 0 to 890\n",
      "Data columns (total 12 columns):\n",
      " #   Column       Non-Null Count  Dtype  \n",
      "---  ------       --------------  -----  \n",
      " 0   PassengerId  891 non-null    int64  \n",
      " 1   Survived     891 non-null    int64  \n",
      " 2   Pclass       891 non-null    int64  \n",
      " 3   Name         891 non-null    object \n",
      " 4   Sex          891 non-null    object \n",
      " 5   Age          714 non-null    float64\n",
      " 6   SibSp        891 non-null    int64  \n",
      " 7   Parch        891 non-null    int64  \n",
      " 8   Ticket       891 non-null    object \n",
      " 9   Fare         891 non-null    float64\n",
      " 10  Cabin        204 non-null    object \n",
      " 11  Embarked     889 non-null    object \n",
      "dtypes: float64(2), int64(5), object(5)\n",
      "memory usage: 83.7+ KB\n"
     ]
    }
   ],
   "source": [
    "import pandas as pd\n",
    "import numpy as np\n",
    "train_data = pd.read_csv('data/titanic/train.csv')\n",
    "test_data = pd.read_csv('data/titanic/test.csv')\n",
    "test_result = pd.read_csv('data/test_augmented.csv')['Survived']\n",
    "train_data.info()"
   ]
  },
  {
   "cell_type": "code",
   "execution_count": 33,
   "outputs": [
    {
     "name": "stdout",
     "output_type": "stream",
     "text": [
      "<class 'pandas.core.frame.DataFrame'>\n",
      "RangeIndex: 418 entries, 0 to 417\n",
      "Data columns (total 11 columns):\n",
      " #   Column       Non-Null Count  Dtype  \n",
      "---  ------       --------------  -----  \n",
      " 0   PassengerId  418 non-null    int64  \n",
      " 1   Pclass       418 non-null    int64  \n",
      " 2   Name         418 non-null    object \n",
      " 3   Sex          418 non-null    object \n",
      " 4   Age          332 non-null    float64\n",
      " 5   SibSp        418 non-null    int64  \n",
      " 6   Parch        418 non-null    int64  \n",
      " 7   Ticket       418 non-null    object \n",
      " 8   Fare         417 non-null    float64\n",
      " 9   Cabin        91 non-null     object \n",
      " 10  Embarked     418 non-null    object \n",
      "dtypes: float64(2), int64(4), object(5)\n",
      "memory usage: 36.1+ KB\n"
     ]
    }
   ],
   "source": [
    "test_data.info()"
   ],
   "metadata": {
    "collapsed": false,
    "ExecuteTime": {
     "end_time": "2025-08-04T14:25:18.587377700Z",
     "start_time": "2025-08-04T14:25:18.542522500Z"
    }
   },
   "id": "c12ea2187015acb4"
  },
  {
   "cell_type": "code",
   "execution_count": 34,
   "outputs": [
    {
     "name": "stdout",
     "output_type": "stream",
     "text": [
      "mse: 0.2560\n",
      "r2: -0.08875365141187919\n",
      "accuracy: 0.7440191387559809\n",
      "recall: 0.6455696202531646\n",
      "precision0.6666666666666666\n"
     ]
    }
   ],
   "source": [
    "from sklearn.metrics import mean_squared_error, r2_score, accuracy_score\n",
    "from sklearn.ensemble import RandomForestClassifier\n",
    "from sklearn.compose import ColumnTransformer\n",
    "from sklearn.preprocessing import StandardScaler, OneHotEncoder\n",
    "from sklearn.impute import SimpleImputer\n",
    "from sklearn.pipeline import make_pipeline\n",
    "from sklearn.metrics import recall_score, precision_score\n",
    "\n",
    "num_pipeline = make_pipeline(\n",
    "    SimpleImputer(strategy='mean'),\n",
    "    StandardScaler()\n",
    ")\n",
    "str_pipeline = make_pipeline(\n",
    "    SimpleImputer(strategy='most_frequent'),\n",
    "    OneHotEncoder(handle_unknown='ignore')\n",
    ")\n",
    "nums = ['Age', 'Fare']\n",
    "strs = ['Pclass','Embarked', 'Sex', 'SibSp', 'Parch']\n",
    "\n",
    "X = train_data.loc[:, nums + strs]\n",
    "Y = train_data.loc[:, 'Survived']\n",
    "\n",
    "X_test = test_data.loc[:, nums + strs]\n",
    "Y_test = test_result\n",
    "\n",
    "\n",
    "titanic_preprocessing = ColumnTransformer([\n",
    "    ('num', num_pipeline, nums),\n",
    "    ('str', str_pipeline, strs)\n",
    "])\n",
    "\n",
    "# RandomForest\n",
    "train_model = make_pipeline(\n",
    "    titanic_preprocessing,\n",
    "    RandomForestClassifier(random_state=42)\n",
    ")\n",
    "train_model.fit(X, Y)\n",
    "\n",
    "Y_pred = train_model.predict(X_test)\n",
    "print(f\"mse: {mean_squared_error(test_result, Y_pred):.4f}\")\n",
    "print(f\"r2: {r2_score(Y_test, Y_pred)}\")\n",
    "print(f\"accuracy: {accuracy_score(Y_test, Y_pred)}\")\n",
    "print(f\"recall: {recall_score(Y_test, Y_pred)}\")\n",
    "print(f\"precision{precision_score(Y_test, Y_pred)}\")"
   ],
   "metadata": {
    "collapsed": false,
    "ExecuteTime": {
     "end_time": "2025-08-04T14:25:18.763050500Z",
     "start_time": "2025-08-04T14:25:18.551333Z"
    }
   },
   "id": "57028de920391c04"
  },
  {
   "cell_type": "code",
   "execution_count": 35,
   "outputs": [
    {
     "name": "stdout",
     "output_type": "stream",
     "text": [
      "mse: 0.2177\n",
      "r2: 0.07405063291139247\n",
      "accuracy: 0.7822966507177034\n",
      "recall: 0.6582278481012658\n",
      "precision0.7375886524822695\n"
     ]
    }
   ],
   "source": [
    "# SVM\n",
    "from sklearn.svm import SVC\n",
    "\n",
    "train_model2 = make_pipeline(\n",
    "    titanic_preprocessing,\n",
    "    SVC(kernel=\"rbf\", random_state=42)\n",
    ")\n",
    "train_model2.fit(X, Y)\n",
    "\n",
    "Y_pred = train_model2.predict(X_test)\n",
    "print(f\"mse: {mean_squared_error(test_result, Y_pred):.4f}\")\n",
    "print(f\"r2: {r2_score(Y_test, Y_pred)}\")\n",
    "print(f\"accuracy: {accuracy_score(Y_test, Y_pred)}\")\n",
    "print(f\"recall: {recall_score(Y_test, Y_pred)}\")\n",
    "print(f\"precision{precision_score(Y_test, Y_pred)}\")"
   ],
   "metadata": {
    "collapsed": false,
    "ExecuteTime": {
     "end_time": "2025-08-04T14:25:18.806950700Z",
     "start_time": "2025-08-04T14:25:18.764054500Z"
    }
   },
   "id": "3a6d6dbe90b629b1"
  },
  {
   "cell_type": "code",
   "execution_count": 36,
   "outputs": [
    {
     "name": "stdout",
     "output_type": "stream",
     "text": [
      "mse: 0.2297\n",
      "r2: 0.023174294060370082\n",
      "accuracy: 0.7703349282296651\n",
      "recall: 0.7088607594936709\n",
      "precision0.691358024691358\n"
     ]
    }
   ],
   "source": [
    "# LogisticRegression\n",
    "from sklearn.linear_model import LogisticRegression\n",
    "\n",
    "train_model3 = make_pipeline(\n",
    "    titanic_preprocessing,\n",
    "    LogisticRegression()\n",
    ")\n",
    "train_model3.fit(X, Y)\n",
    "\n",
    "Y_pred = train_model3.predict(X_test)\n",
    "print(f\"mse: {mean_squared_error(test_result, Y_pred):.4f}\")\n",
    "print(f\"r2: {r2_score(Y_test, Y_pred)}\")\n",
    "print(f\"accuracy: {accuracy_score(Y_test, Y_pred)}\")\n",
    "print(f\"recall: {recall_score(Y_test, Y_pred)}\")\n",
    "print(f\"precision{precision_score(Y_test, Y_pred)}\")"
   ],
   "metadata": {
    "collapsed": false,
    "ExecuteTime": {
     "end_time": "2025-08-04T14:25:18.847093100Z",
     "start_time": "2025-08-04T14:25:18.806950700Z"
    }
   },
   "id": "7a1cf12b1d88ced2"
  },
  {
   "cell_type": "code",
   "execution_count": 37,
   "outputs": [
    {
     "name": "stdout",
     "output_type": "stream",
     "text": [
      "mse: 0.2225\n",
      "r2: 0.05370009737098347\n",
      "accuracy: 0.777511961722488\n",
      "recall: 0.6518987341772152\n",
      "precision0.7304964539007093\n"
     ]
    }
   ],
   "source": [
    "# VotingClassifier\n",
    "from sklearn.ensemble import VotingClassifier\n",
    "voting_clf = make_pipeline(\n",
    "    titanic_preprocessing,\n",
    "    VotingClassifier(\n",
    "        estimators=[\n",
    "            ('rf', RandomForestClassifier(random_state=42)),\n",
    "            ('lr', LogisticRegression())\n",
    "        ],\n",
    "        voting='soft'\n",
    "    )\n",
    ")\n",
    "voting_clf.fit(X, Y)\n",
    "Y_pred = voting_clf.predict(X_test)\n",
    "print(f\"mse: {mean_squared_error(test_result, Y_pred):.4f}\")\n",
    "print(f\"r2: {r2_score(Y_test, Y_pred)}\")\n",
    "print(f\"accuracy: {accuracy_score(Y_test, Y_pred)}\")\n",
    "print(f\"recall: {recall_score(Y_test, Y_pred)}\")\n",
    "print(f\"precision{precision_score(Y_test, Y_pred)}\")"
   ],
   "metadata": {
    "collapsed": false,
    "ExecuteTime": {
     "end_time": "2025-08-04T14:25:19.077455500Z",
     "start_time": "2025-08-04T14:25:18.837077200Z"
    }
   },
   "id": "a7249b34916002c8"
  },
  {
   "cell_type": "code",
   "execution_count": null,
   "outputs": [],
   "source": [],
   "metadata": {
    "collapsed": false
   },
   "id": "3d57bd17e3625af5"
  }
 ],
 "metadata": {
  "kernelspec": {
   "display_name": "Python 3",
   "language": "python",
   "name": "python3"
  },
  "language_info": {
   "codemirror_mode": {
    "name": "ipython",
    "version": 2
   },
   "file_extension": ".py",
   "mimetype": "text/x-python",
   "name": "python",
   "nbconvert_exporter": "python",
   "pygments_lexer": "ipython2",
   "version": "2.7.6"
  }
 },
 "nbformat": 4,
 "nbformat_minor": 5
}
