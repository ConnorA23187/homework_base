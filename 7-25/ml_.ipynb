{
 "cells": [
  {
   "cell_type": "code",
   "execution_count": 1,
   "id": "initial_id",
   "metadata": {
    "collapsed": true,
    "ExecuteTime": {
     "end_time": "2025-07-31T00:24:12.607509200Z",
     "start_time": "2025-07-31T00:24:09.611366800Z"
    }
   },
   "outputs": [],
   "source": [
    "import numpy as np\n",
    "import pandas as pd\n",
    "import sklearn as sk"
   ]
  },
  {
   "cell_type": "code",
   "execution_count": 2,
   "outputs": [
    {
     "name": "stdout",
     "output_type": "stream",
     "text": [
      "<class 'pandas.core.frame.DataFrame'>\n",
      "RangeIndex: 20640 entries, 0 to 20639\n",
      "Data columns (total 10 columns):\n",
      " #   Column              Non-Null Count  Dtype  \n",
      "---  ------              --------------  -----  \n",
      " 0   longitude           20640 non-null  float64\n",
      " 1   latitude            20640 non-null  float64\n",
      " 2   housing_median_age  20640 non-null  float64\n",
      " 3   total_rooms         20640 non-null  float64\n",
      " 4   total_bedrooms      20433 non-null  float64\n",
      " 5   population          20640 non-null  float64\n",
      " 6   households          20640 non-null  float64\n",
      " 7   median_income       20640 non-null  float64\n",
      " 8   median_house_value  20640 non-null  float64\n",
      " 9   ocean_proximity     20640 non-null  object \n",
      "dtypes: float64(9), object(1)\n",
      "memory usage: 1.6+ MB\n"
     ]
    }
   ],
   "source": [
    "data_path = 'housing/housing.csv'\n",
    "data = pd.read_csv(data_path)\n",
    "data.info()"
   ],
   "metadata": {
    "collapsed": false,
    "ExecuteTime": {
     "end_time": "2025-07-31T00:24:12.645782700Z",
     "start_time": "2025-07-31T00:24:12.607509200Z"
    }
   },
   "id": "772e889f16538c9b"
  },
  {
   "cell_type": "code",
   "execution_count": 3,
   "outputs": [
    {
     "data": {
      "text/plain": "   longitude  latitude  housing_median_age  total_rooms  total_bedrooms  \\\n0    -122.23     37.88                41.0        880.0           129.0   \n1    -122.22     37.86                21.0       7099.0          1106.0   \n2    -122.24     37.85                52.0       1467.0           190.0   \n3    -122.25     37.85                52.0       1274.0           235.0   \n4    -122.25     37.85                52.0       1627.0           280.0   \n\n   population  households  median_income  median_house_value ocean_proximity  \n0       322.0       126.0         8.3252            452600.0        NEAR BAY  \n1      2401.0      1138.0         8.3014            358500.0        NEAR BAY  \n2       496.0       177.0         7.2574            352100.0        NEAR BAY  \n3       558.0       219.0         5.6431            341300.0        NEAR BAY  \n4       565.0       259.0         3.8462            342200.0        NEAR BAY  ",
      "text/html": "<div>\n<style scoped>\n    .dataframe tbody tr th:only-of-type {\n        vertical-align: middle;\n    }\n\n    .dataframe tbody tr th {\n        vertical-align: top;\n    }\n\n    .dataframe thead th {\n        text-align: right;\n    }\n</style>\n<table border=\"1\" class=\"dataframe\">\n  <thead>\n    <tr style=\"text-align: right;\">\n      <th></th>\n      <th>longitude</th>\n      <th>latitude</th>\n      <th>housing_median_age</th>\n      <th>total_rooms</th>\n      <th>total_bedrooms</th>\n      <th>population</th>\n      <th>households</th>\n      <th>median_income</th>\n      <th>median_house_value</th>\n      <th>ocean_proximity</th>\n    </tr>\n  </thead>\n  <tbody>\n    <tr>\n      <th>0</th>\n      <td>-122.23</td>\n      <td>37.88</td>\n      <td>41.0</td>\n      <td>880.0</td>\n      <td>129.0</td>\n      <td>322.0</td>\n      <td>126.0</td>\n      <td>8.3252</td>\n      <td>452600.0</td>\n      <td>NEAR BAY</td>\n    </tr>\n    <tr>\n      <th>1</th>\n      <td>-122.22</td>\n      <td>37.86</td>\n      <td>21.0</td>\n      <td>7099.0</td>\n      <td>1106.0</td>\n      <td>2401.0</td>\n      <td>1138.0</td>\n      <td>8.3014</td>\n      <td>358500.0</td>\n      <td>NEAR BAY</td>\n    </tr>\n    <tr>\n      <th>2</th>\n      <td>-122.24</td>\n      <td>37.85</td>\n      <td>52.0</td>\n      <td>1467.0</td>\n      <td>190.0</td>\n      <td>496.0</td>\n      <td>177.0</td>\n      <td>7.2574</td>\n      <td>352100.0</td>\n      <td>NEAR BAY</td>\n    </tr>\n    <tr>\n      <th>3</th>\n      <td>-122.25</td>\n      <td>37.85</td>\n      <td>52.0</td>\n      <td>1274.0</td>\n      <td>235.0</td>\n      <td>558.0</td>\n      <td>219.0</td>\n      <td>5.6431</td>\n      <td>341300.0</td>\n      <td>NEAR BAY</td>\n    </tr>\n    <tr>\n      <th>4</th>\n      <td>-122.25</td>\n      <td>37.85</td>\n      <td>52.0</td>\n      <td>1627.0</td>\n      <td>280.0</td>\n      <td>565.0</td>\n      <td>259.0</td>\n      <td>3.8462</td>\n      <td>342200.0</td>\n      <td>NEAR BAY</td>\n    </tr>\n  </tbody>\n</table>\n</div>"
     },
     "execution_count": 3,
     "metadata": {},
     "output_type": "execute_result"
    }
   ],
   "source": [
    "data.head()"
   ],
   "metadata": {
    "collapsed": false,
    "ExecuteTime": {
     "end_time": "2025-07-31T00:24:12.671204100Z",
     "start_time": "2025-07-31T00:24:12.641781200Z"
    }
   },
   "id": "d665180594c2e0a3"
  },
  {
   "cell_type": "code",
   "execution_count": 4,
   "outputs": [],
   "source": [
    "train_set, test_set = sk.model_selection.train_test_split(data, test_size=0.4, random_state=42)"
   ],
   "metadata": {
    "collapsed": false,
    "ExecuteTime": {
     "end_time": "2025-07-31T00:24:12.837996500Z",
     "start_time": "2025-07-31T00:24:12.655204400Z"
    }
   },
   "id": "348491d9a3f448d0"
  },
  {
   "cell_type": "code",
   "execution_count": 5,
   "outputs": [],
   "source": [
    "from sklearn.metrics.pairwise import rbf_kernel\n",
    "from sklearn.cluster import KMeans\n",
    "from sklearn.base import BaseEstimator, TransformerMixin\n",
    "\n",
    "class ClusterSimilarity(BaseEstimator, TransformerMixin):\n",
    "    kmeans_index = None\n",
    "    def __init__(self, n_clusters=10, gamma=1.0, random_state=None):\n",
    "        self.n_clusters = n_clusters\n",
    "        self.gamma = gamma\n",
    "        self.random_state = random_state\n",
    "\n",
    "    def fit(self, X, y=None, sample_weight=None):\n",
    "        self.kmeans_index = KMeans(self.n_clusters, n_init=10,\n",
    "                              random_state=self.random_state)\n",
    "\n",
    "        self.kmeans_index.fit(X, sample_weight=sample_weight)\n",
    "        return self \n",
    "\n",
    "    def transform(self, X):\n",
    "        return rbf_kernel(X, self.kmeans_index.cluster_centers_, gamma=self.gamma)\n",
    "\n",
    "    def get_feature_names_out(self, names=None):\n",
    "        return [f\"Cluster {i} similarity\" for i in range(self.n_clusters)]"
   ],
   "metadata": {
    "collapsed": false,
    "ExecuteTime": {
     "end_time": "2025-07-31T00:24:13.057923Z",
     "start_time": "2025-07-31T00:24:12.796997300Z"
    }
   },
   "id": "4dfd384b83e62ddd"
  },
  {
   "cell_type": "code",
   "execution_count": 6,
   "outputs": [],
   "source": [
    "from sklearn.preprocessing import StandardScaler, OneHotEncoder, FunctionTransformer\n",
    "from sklearn.impute import SimpleImputer\n",
    "from sklearn.pipeline import make_pipeline\n",
    "from sklearn.compose import make_column_selector, make_column_transformer, ColumnTransformer\n",
    "\n",
    "num_attribs = [\"longitude\", \"latitude\", \"housing_median_age\", \"total_rooms\",\n",
    "               \"total_bedrooms\", \"population\", \"households\", \"median_income\"]\n",
    "cat_attribs = [\"ocean_proximity\"]\n",
    "\n",
    "num_pipeline = make_pipeline(SimpleImputer(strategy=\"most_frequent\"), StandardScaler())\n",
    "str_pipeline = make_pipeline(SimpleImputer(strategy=\"most_frequent\"), OneHotEncoder(handle_unknown=\"ignore\"))\n",
    "\n",
    "def columns_ratio(X):\n",
    "    return X[:, [0]] / X[:, [1]]\n",
    "\n",
    "def ratio_name(function_transformer, feature_names_in):\n",
    "    return [f\"ratio:{feature_names_in}\"]\n",
    "\n",
    "ratio_pipeline = make_pipeline(\n",
    "        SimpleImputer(strategy=\"most_frequent\"),\n",
    "        FunctionTransformer(columns_ratio, feature_names_out=ratio_name),\n",
    "        StandardScaler())\n",
    "\n",
    "log_pipeline = make_pipeline(\n",
    "    SimpleImputer(strategy=\"most_frequent\"),\n",
    "    FunctionTransformer(np.log, feature_names_out=\"one-to-one\"),\n",
    "    StandardScaler())\n",
    "\n",
    "cluster_simil = ClusterSimilarity(n_clusters=10, gamma=1., random_state=42)\n",
    "means_num_pipeline = make_pipeline(SimpleImputer(strategy=\"median\"), StandardScaler())\n",
    "\n",
    "preprocessing = ColumnTransformer([\n",
    "        (\"bedrooms\", ratio_pipeline, [\"total_bedrooms\", \"total_rooms\"]),\n",
    "        (\"rooms_per_house\", ratio_pipeline, [\"total_rooms\", \"households\"]),\n",
    "        (\"people_per_house\", ratio_pipeline, [\"population\", \"households\"]),\n",
    "        (\"log\", log_pipeline, [\"total_bedrooms\", \"total_rooms\", \"population\",\n",
    "                               \"households\", \"median_income\"]),\n",
    "        (\"geog\", cluster_simil, [\"latitude\", \"longitude\"]),\n",
    "        (\"ocean\", str_pipeline, make_column_selector(dtype_include=object))\n",
    "    ],\n",
    "    remainder=num_pipeline)"
   ],
   "metadata": {
    "collapsed": false,
    "ExecuteTime": {
     "end_time": "2025-07-31T00:24:13.078197200Z",
     "start_time": "2025-07-31T00:24:13.058923100Z"
    }
   },
   "id": "6b4ec68d25479e6"
  },
  {
   "cell_type": "code",
   "execution_count": 7,
   "outputs": [],
   "source": [
    "from sklearn.svm import SVR\n",
    "\n",
    "svr = SVR(\n",
    "    kernel='rbf',      \n",
    "    C=0.5,             \n",
    "    epsilon=0.1,       \n",
    "    gamma='scale'     \n",
    ")\n",
    "X = train_set.drop(columns=['median_house_value'])\n",
    "Y = train_set['median_house_value']\n",
    "X_test = test_set.drop(columns=['median_house_value'])\n",
    "Y_test = test_set['median_house_value']"
   ],
   "metadata": {
    "collapsed": false,
    "ExecuteTime": {
     "end_time": "2025-07-31T00:24:13.087918Z",
     "start_time": "2025-07-31T00:24:13.079197200Z"
    }
   },
   "id": "eac3f2148e2a0518"
  },
  {
   "cell_type": "markdown",
   "source": [],
   "metadata": {
    "collapsed": false
   },
   "id": "2c69622cbf7eb8d4"
  },
  {
   "cell_type": "code",
   "execution_count": 8,
   "outputs": [
    {
     "name": "stdout",
     "output_type": "stream",
     "text": [
      "172.0%, -49.3%, -61.6%, -64.2%, -37.4%\n"
     ]
    },
    {
     "data": {
      "text/plain": "array([-120731.57820146, -120435.63429728, -115179.09771935,\n       -117072.19060613, -115345.92646744])"
     },
     "execution_count": 8,
     "metadata": {},
     "output_type": "execute_result"
    }
   ],
   "source": [
    "from sklearn.model_selection import cross_val_score\n",
    "train_reg = make_pipeline(preprocessing, svr)\n",
    "train_reg.fit(X, Y)\n",
    "\n",
    "Y_pred = train_reg.predict(X_test)\n",
    "error_ratios = Y_pred[:5].round(-2) / Y_test.iloc[:5].values - 1\n",
    "print(\", \".join([f\"{100 * ratio:.1f}%\" for ratio in error_ratios]))\n",
    "rmse1 = cross_val_score(train_reg, X, Y, scoring=\"neg_root_mean_squared_error\", cv=5)\n",
    "rmse1"
   ],
   "metadata": {
    "collapsed": false,
    "ExecuteTime": {
     "end_time": "2025-07-31T00:24:40.413508600Z",
     "start_time": "2025-07-31T00:24:13.085918500Z"
    }
   },
   "id": "c13b7efc08436308"
  },
  {
   "cell_type": "code",
   "execution_count": 9,
   "outputs": [
    {
     "name": "stdout",
     "output_type": "stream",
     "text": [
      "165.1%, -48.5%, -60.0%, -63.5%, -36.3%\n"
     ]
    },
    {
     "data": {
      "text/plain": "array([-118236.53413968, -118049.38847764, -112780.73221683,\n       -114638.86177326, -112904.36344397])"
     },
     "execution_count": 9,
     "metadata": {},
     "output_type": "execute_result"
    }
   ],
   "source": [
    "svr1 = SVR(\n",
    "    kernel='linear',     \n",
    "    C=0.5,            \n",
    "    epsilon=0.1,       \n",
    "    gamma='scale'      \n",
    ")\n",
    "train_reg = make_pipeline(preprocessing, svr1)\n",
    "train_reg.fit(X, Y)\n",
    "\n",
    "Y_pred = train_reg.predict(X_test)\n",
    "error_ratios = Y_pred[:5].round(-2) / Y_test.iloc[:5].values - 1\n",
    "print(\", \".join([f\"{100 * ratio:.1f}%\" for ratio in error_ratios]))\n",
    "rmse2 = cross_val_score(train_reg, X, Y, scoring=\"neg_root_mean_squared_error\", cv=5)\n",
    "rmse2"
   ],
   "metadata": {
    "collapsed": false,
    "ExecuteTime": {
     "end_time": "2025-07-31T00:24:56.356456200Z",
     "start_time": "2025-07-31T00:24:40.410508900Z"
    }
   },
   "id": "f621388d97067a74"
  },
  {
   "cell_type": "code",
   "execution_count": 10,
   "outputs": [
    {
     "name": "stdout",
     "output_type": "stream",
     "text": [
      "选择的特征索引: [ 3  4  5  6  7  9 13 14 16]\n"
     ]
    },
    {
     "name": "stderr",
     "output_type": "stream",
     "text": [
      "D:\\AppData\\Envs\\BioEnv\\Lib\\site-packages\\sklearn\\cluster\\_kmeans.py:1419: UserWarning: KMeans is known to have a memory leak on Windows with MKL, when there are less chunks than available threads. You can avoid it by setting the environment variable OMP_NUM_THREADS=4.\n",
      "  warnings.warn(\n"
     ]
    }
   ],
   "source": [
    "from sklearn.pipeline import Pipeline\n",
    "from sklearn.linear_model import LinearRegression\n",
    "from sklearn.feature_selection import SelectFromModel\n",
    "\n",
    "train_set, test_set = sk.model_selection.train_test_split(data.iloc[:1000], test_size=0.2, random_state=42)\n",
    "X1 = train_set.drop(columns=['median_house_value'])\n",
    "Y1 = train_set['median_house_value']\n",
    "\n",
    "tree_reg = Pipeline([(\"first\",preprocessing), (\"reg\",LinearRegression())])\n",
    "tree_reg.fit(X1, Y1)\n",
    "linear_reg = tree_reg.named_steps['reg']\n",
    "selector = SelectFromModel(linear_reg, prefit = True)\n",
    "\n",
    "print(\"选择的特征索引:\", selector.get_support(indices=True))"
   ],
   "metadata": {
    "collapsed": false,
    "ExecuteTime": {
     "end_time": "2025-07-31T00:24:56.453700Z",
     "start_time": "2025-07-31T00:24:56.355456900Z"
    }
   },
   "id": "545a711a3d8ea795"
  },
  {
   "cell_type": "code",
   "execution_count": 11,
   "outputs": [],
   "source": [
    "from sklearn.neighbors import KNeighborsRegressor\n",
    "\n",
    "class KNNMedianHouseValuePredictor(BaseEstimator, TransformerMixin):\n",
    "    use_cols = [0, 1]\n",
    "    def __init__(self, n_neighbors=5):\n",
    "        self.Knn_model = None\n",
    "        self.n_neighbors = n_neighbors\n",
    "    \n",
    "    def fit(self, X_, y=None):\n",
    "        self.Knn_model = KNeighborsRegressor(n_neighbors=self.n_neighbors)\n",
    "        self.Knn_model.fit(X_[:, self.use_cols], y)\n",
    "        return self\n",
    "    def transform(self, X_):\n",
    "        predict_X_ = self.Knn_model.predict(X_[:, self.use_cols])\n",
    "        X_new = X.copy()\n",
    "        X_new['KNN_Predicted_MedHouseVal'] = predict_X_\n",
    "        return X_new"
   ],
   "metadata": {
    "collapsed": false,
    "ExecuteTime": {
     "end_time": "2025-07-31T00:24:56.455701500Z",
     "start_time": "2025-07-31T00:24:56.446623500Z"
    }
   },
   "id": "4f9a4a778a858dc3"
  },
  {
   "cell_type": "code",
   "execution_count": 12,
   "outputs": [
    {
     "name": "stdout",
     "output_type": "stream",
     "text": [
      "模型RMSE: 54616.2560\n"
     ]
    },
    {
     "name": "stderr",
     "output_type": "stream",
     "text": [
      "D:\\AppData\\Envs\\BioEnv\\Lib\\site-packages\\sklearn\\pipeline.py:62: FutureWarning: This Pipeline instance is not fitted yet. Call 'fit' with appropriate arguments before using other methods such as transform, predict, etc. This will raise an error in 1.8 instead of the current warning.\n",
      "  warnings.warn(\n"
     ]
    }
   ],
   "source": [
    "from sklearn.metrics import mean_squared_error\n",
    "train_set, test_set = sk.model_selection.train_test_split(data, test_size=0.5, random_state=42)\n",
    "\n",
    "X = train_set.loc[:, [\"longitude\", \"latitude\"]]\n",
    "Y = train_set.loc[:, ['median_house_value']]\n",
    "X_test = test_set.loc[:, [\"longitude\", \"latitude\"]]\n",
    "Y_test = test_set.loc[:, ['median_house_value']]\n",
    "local_pipeline = make_pipeline(SimpleImputer(strategy=\"most_frequent\"), StandardScaler())\n",
    "preprocessing1 = make_column_transformer(\n",
    "    (local_pipeline, [\"longitude\", \"latitude\"])  # 直接传递元组，不加外层括号\n",
    ")\n",
    "pipeline = Pipeline([(\"preprocessor1\", preprocessing1),('knn_feature', KNNMedianHouseValuePredictor(n_neighbors=5))])\n",
    "train_knn = make_pipeline(pipeline, LinearRegression())\n",
    "train_knn.fit(X, Y)\n",
    "y_pred1 = train_knn.predict(X_test)\n",
    "print(f\"模型RMSE: {np.sqrt(mean_squared_error(Y_test, y_pred1)):.4f}\")"
   ],
   "metadata": {
    "collapsed": false,
    "ExecuteTime": {
     "end_time": "2025-07-31T00:24:56.559512500Z",
     "start_time": "2025-07-31T00:24:56.453700Z"
    }
   },
   "id": "8d6dc869b4379273"
  },
  {
   "cell_type": "code",
   "execution_count": 13,
   "outputs": [],
   "source": [
    "class StandardScalerClone:\n",
    "    def __init__(self, with_mean=True, with_std=True):\n",
    "        self.with_mean = with_mean\n",
    "        self.with_std = with_std\n",
    "        self.feature_names_in_ = None\n",
    "        self.n_features_in_ = None\n",
    "        self.mean_ = None\n",
    "        self.scale_ = None\n",
    "    def fit(self, X, y=None):\n",
    "        # 处理DataFrame或array-like输入\n",
    "        if isinstance(X, pd.DataFrame):\n",
    "            self.feature_names_in_ = np.array(X.columns, dtype=object)\n",
    "            X = X.values\n",
    "        self.n_features_in_ = X.shape[1]\n",
    "        \n",
    "        if self.with_mean:\n",
    "            self.mean_ = np.mean(X, axis=0)\n",
    "        else:\n",
    "            self.mean_ = np.zeros(self.n_features_in_)\n",
    "            \n",
    "        if self.with_std:\n",
    "            self.scale_ = np.std(X, axis=0)\n",
    "            # 避免除以零\n",
    "            self.scale_[self.scale_ == 0.0] = 1.0\n",
    "        else:\n",
    "            self.scale_ = np.ones(self.n_features_in_)\n",
    "        return self\n",
    "    def transform(self, X):\n",
    "        if isinstance(X, pd.DataFrame):\n",
    "            if self.feature_names_in_ is not None:\n",
    "                # 检查列名是否匹配\n",
    "                if not np.array_equal(X.columns, self.feature_names_in_):\n",
    "                    raise ValueError(\"X的列名与fit时的不匹配\")\n",
    "            X = X.values\n",
    "        X_transformed = (X - self.mean_) / self.scale_\n",
    "        return X_transformed\n",
    "    def inverse_transform(self, X_transformed):\n",
    "        if isinstance(X_transformed, pd.DataFrame):\n",
    "            X_transformed = X_transformed.values\n",
    "        X = X_transformed * self.scale_ + self.mean_\n",
    "        return X\n",
    "    def fit_transform(self, X, y=None):\n",
    "        return self.fit(X).transform(X)\n",
    "    def get_feature_names_out(self, input_features=None):\n",
    "        if input_features is not None:\n",
    "            input_features = np.asarray(input_features, dtype=object)\n",
    "            if len(input_features) != self.n_features_in_:\n",
    "                raise ValueError(\n",
    "                    f\"input_features的长度为{len(input_features)}，但应有{self.n_features_in_}个特征\"\n",
    "                )\n",
    "            return input_features\n",
    "        if self.feature_names_in_ is not None:\n",
    "            return self.feature_names_in_\n",
    "        return np.array([f\"x{i}\" for i in range(self.n_features_in_)], dtype=object)"
   ],
   "metadata": {
    "collapsed": false,
    "ExecuteTime": {
     "end_time": "2025-07-31T01:00:14.002963300Z",
     "start_time": "2025-07-31T01:00:14.000962200Z"
    }
   },
   "id": "1dd6f2fe075acf21"
  },
  {
   "cell_type": "code",
   "execution_count": null,
   "outputs": [],
   "source": [],
   "metadata": {
    "collapsed": false
   },
   "id": "a80398e70105b67a"
  }
 ],
 "metadata": {
  "kernelspec": {
   "display_name": "Python 3",
   "language": "python",
   "name": "python3"
  },
  "language_info": {
   "codemirror_mode": {
    "name": "ipython",
    "version": 2
   },
   "file_extension": ".py",
   "mimetype": "text/x-python",
   "name": "python",
   "nbconvert_exporter": "python",
   "pygments_lexer": "ipython2",
   "version": "2.7.6"
  }
 },
 "nbformat": 4,
 "nbformat_minor": 5
}
