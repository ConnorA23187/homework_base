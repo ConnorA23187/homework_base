{
 "cells": [
  {
   "cell_type": "code",
   "execution_count": 2,
   "id": "initial_id",
   "metadata": {
    "collapsed": true,
    "ExecuteTime": {
     "end_time": "2025-08-12T05:05:13.438062500Z",
     "start_time": "2025-08-12T05:05:10.067736700Z"
    }
   },
   "outputs": [
    {
     "data": {
      "text/plain": "{'data': array([[   8.3252    ,   41.        ,    6.98412698, ...,    2.55555556,\n           37.88      , -122.23      ],\n        [   8.3014    ,   21.        ,    6.23813708, ...,    2.10984183,\n           37.86      , -122.22      ],\n        [   7.2574    ,   52.        ,    8.28813559, ...,    2.80225989,\n           37.85      , -122.24      ],\n        ...,\n        [   1.7       ,   17.        ,    5.20554273, ...,    2.3256351 ,\n           39.43      , -121.22      ],\n        [   1.8672    ,   18.        ,    5.32951289, ...,    2.12320917,\n           39.43      , -121.32      ],\n        [   2.3886    ,   16.        ,    5.25471698, ...,    2.61698113,\n           39.37      , -121.24      ]]),\n 'target': array([4.526, 3.585, 3.521, ..., 0.923, 0.847, 0.894]),\n 'frame': None,\n 'target_names': ['MedHouseVal'],\n 'feature_names': ['MedInc',\n  'HouseAge',\n  'AveRooms',\n  'AveBedrms',\n  'Population',\n  'AveOccup',\n  'Latitude',\n  'Longitude'],\n 'DESCR': '.. _california_housing_dataset:\\n\\nCalifornia Housing dataset\\n--------------------------\\n\\n**Data Set Characteristics:**\\n\\n:Number of Instances: 20640\\n\\n:Number of Attributes: 8 numeric, predictive attributes and the target\\n\\n:Attribute Information:\\n    - MedInc        median income in block group\\n    - HouseAge      median house age in block group\\n    - AveRooms      average number of rooms per household\\n    - AveBedrms     average number of bedrooms per household\\n    - Population    block group population\\n    - AveOccup      average number of household members\\n    - Latitude      block group latitude\\n    - Longitude     block group longitude\\n\\n:Missing Attribute Values: None\\n\\nThis dataset was obtained from the StatLib repository.\\nhttps://www.dcc.fc.up.pt/~ltorgo/Regression/cal_housing.html\\n\\nThe target variable is the median house value for California districts,\\nexpressed in hundreds of thousands of dollars ($100,000).\\n\\nThis dataset was derived from the 1990 U.S. census, using one row per census\\nblock group. A block group is the smallest geographical unit for which the U.S.\\nCensus Bureau publishes sample data (a block group typically has a population\\nof 600 to 3,000 people).\\n\\nA household is a group of people residing within a home. Since the average\\nnumber of rooms and bedrooms in this dataset are provided per household, these\\ncolumns may take surprisingly large values for block groups with few households\\nand many empty houses, such as vacation resorts.\\n\\nIt can be downloaded/loaded using the\\n:func:`sklearn.datasets.fetch_california_housing` function.\\n\\n.. rubric:: References\\n\\n- Pace, R. Kelley and Ronald Barry, Sparse Spatial Autoregressions,\\n  Statistics and Probability Letters, 33 (1997) 291-297\\n'}"
     },
     "execution_count": 2,
     "metadata": {},
     "output_type": "execute_result"
    }
   ],
   "source": [
    "# 在加州房屋数据集上训练和微调SVM回归器。可以使用原始数据集而不是 在课上使用的调整后的版本， 可以使用sklearn.datasets.fetch_california_housing()加载它。目标代表了数十万美元。 由于有超过20000个实例，SVM可能会很慢，因此对于超参数调整，应该使用更少的实例（例如2000个）来测试更多的超参数组合。最佳模型的RMSE是多少？\n",
    "from sklearn.datasets import fetch_california_housing\n",
    "housing = fetch_california_housing()\n",
    "housing"
   ]
  },
  {
   "cell_type": "code",
   "execution_count": 7,
   "outputs": [
    {
     "name": "stdout",
     "output_type": "stream",
     "text": [
      "RMSEs: [0.5911950922203917, 0.48289864323875287, 0.45326853108701715, 0.44831272095669084, 0.42869310919787446, 0.44479580510600747, 0.43667042068320544, 0.4295567079494268, 0.41902440331432705, 0.4118933531996091, 0.40145244783669815, 0.39718824931398555, 0.3932714199716557, 0.3890077459763539, 0.3867743313585192, 0.37788410047631843, 0.3806729517508563, 0.3786399479746074, 0.37640812554415054, 0.37476369588378344, 0.37425734802928917, 0.3729391688229177, 0.3681478940273136, 0.36577568279998196, 0.36342302274663063, 0.36411713822453345, 0.36205192092548244, 0.36266777362980424, 0.3625263694682454, 0.35950776271684237, 0.3593449470527341, 0.35860737028012796, 0.3584849074093315, 0.3573056838969022, 0.35687159790383594, 0.3557108427192822, 0.354400779246639, 0.35314565910884976, 0.35222425681349095, 0.35216722328976213, 0.3492401766782278, 0.3488967390731909, 0.349608397415004, 0.34903043998972827, 0.34845766747323154, 0.3466810985772179, 0.34436947222004566, 0.34462319578503475, 0.34425213223229834, 0.34416359411404895, 0.34313205026823346, 0.3423372250064617, 0.3417019344570478, 0.34130343739415026, 0.3404711370836978, 0.35573480881754577, 0.3552936123554728, 0.35461141776161115, 0.3539105946652887, 0.3543822442737543, 0.3546907908830125, 0.3545657255352642, 0.35367131316166317, 0.3536911732728624, 0.35308122154971916, 0.3525930625376255, 0.35122870910853915, 0.3499243249867507, 0.34950709795510276, 0.34982198958093036, 0.3490230700040598, 0.34882296665903595, 0.3490973540635284, 0.3486351830321299, 0.34806988342420936, 0.3489290257222611, 0.348593556567014, 0.34844038034670444, 0.34699327865518387, 0.3460451943121909, 0.34672120945548124, 0.3461276840214421, 0.3458113401217399, 0.34523392613315906, 0.3450408473184775, 0.3450252000900122, 0.34508281389843515, 0.3448715495569465, 0.34488394216182616, 0.34471190342075014, 0.3437441588350231, 0.3435025027063747, 0.34325209321459893, 0.34196138716568897, 0.34085984574054745, 0.339958580790033, 0.3404354793100782, 0.34059914967179533, 0.34099090844598007, 0.3410111572426755, 0.34140374895948766, 0.34081180475891026, 0.3403857364896663, 0.34020328864581534, 0.339324289725064, 0.3385212946393332, 0.3383780168497242, 0.3384977215776867, 0.33825922789793494, 0.33820151784549807, 0.3375764532949984, 0.37562549171337734, 0.3754653287718782, 0.3752082773461291, 0.3754573257933001, 0.3751893436793327, 0.37453948667891995, 0.3742448759686413, 0.37428728978137493, 0.3745187406464145, 0.37345856177011644, 0.376124982030791, 0.3757361869528408, 0.37561022515469, 0.3753736630368264, 0.37515594464249696, 0.3744481030260602, 0.3739711177083511, 0.37399906840256086, 0.3739638822896746, 0.3739317217913731, 0.37374245098885056, 0.3734984626732361, 0.37331856661095664, 0.3728780354668639, 0.37224093776899153, 0.3724635618519454, 0.37189804285331596, 0.37161421255523, 0.3719904778909397, 0.371474764373284, 0.3710274009172852, 0.37031473349595656, 0.3698309287989734, 0.36983255046788327, 0.36959947899209683, 0.36956070423965814, 0.3687724136774469, 0.36828815634387424, 0.36754563103504123, 0.3671420341928936, 0.3672059720081483, 0.3680873316713063, 0.3683727042392149, 0.3680177370329325, 0.3677661586444724, 0.36782282018146367, 0.367372602750687, 0.3673172949597615, 0.36682756029711566, 0.3662602825683842, 0.366334542870643, 0.3662343819113514, 0.3663403953348575, 0.3661407523394883, 0.36548531628179065, 0.36678025904026335, 0.3668124684585981, 0.36601022257260973, 0.3657895742232096, 0.36514289334433947, 0.36510346820698025, 0.3653447248279528, 0.3653339795022003, 0.3651804723537382, 0.36481172086562125, 0.364363727471571, 0.3640622391262823, 0.36366954579895483, 0.3635060272593336, 0.36298584989318705, 0.3629104771046845, 0.3623868694343593, 0.36207971866410094, 0.36249125427745105]\n",
      "Best RMSE: 0.3375764532949984\n"
     ]
    }
   ],
   "source": [
    "from sklearn.model_selection import train_test_split\n",
    "from sklearn.metrics import mean_squared_error\n",
    "from sklearn.svm import SVR\n",
    "from sklearn.preprocessing import StandardScaler\n",
    "from sklearn.impute import SimpleImputer\n",
    "from sklearn.pipeline import make_pipeline\n",
    "\n",
    "X = housing.data\n",
    "y = housing.target\n",
    "\n",
    "X_train, X_test, y_train, y_test = train_test_split(X, y, test_size=0.1, random_state=42)\n",
    "\n",
    "data_train = make_pipeline(SimpleImputer(strategy=\"median\"), StandardScaler(), SVR(kernel=\"rbf\"))\n",
    "RMSE_group = list()\n",
    "\n",
    "for i in range(100, len(X_train), 100):\n",
    "    data_train.fit(X_train[:i], y_train[:i])\n",
    "    y_pred = data_train.predict(X_test)\n",
    "    RMSE_group.append(mean_squared_error(y_test, y_pred))\n",
    "\n",
    "print(f\"RMSEs: {RMSE_group}\")\n",
    "print(f\"Best RMSE: {min(RMSE_group)}\")"
   ],
   "metadata": {
    "collapsed": false,
    "ExecuteTime": {
     "end_time": "2025-08-12T05:43:47.232506600Z",
     "start_time": "2025-08-12T05:30:07.947409500Z"
    }
   },
   "id": "53b95ad0d39a411c"
  }
 ],
 "metadata": {
  "kernelspec": {
   "display_name": "Python 3",
   "language": "python",
   "name": "python3"
  },
  "language_info": {
   "codemirror_mode": {
    "name": "ipython",
    "version": 2
   },
   "file_extension": ".py",
   "mimetype": "text/x-python",
   "name": "python",
   "nbconvert_exporter": "python",
   "pygments_lexer": "ipython2",
   "version": "2.7.6"
  }
 },
 "nbformat": 4,
 "nbformat_minor": 5
}
