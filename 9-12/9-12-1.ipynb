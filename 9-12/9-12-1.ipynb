{
 "cells": [
  {
   "cell_type": "code",
   "execution_count": 2,
   "id": "initial_id",
   "metadata": {
    "collapsed": true,
    "ExecuteTime": {
     "end_time": "2025-09-17T08:24:09.606387300Z",
     "start_time": "2025-09-17T08:24:01.372842600Z"
    }
   },
   "outputs": [],
   "source": [
    "import tensorflow as tf\n",
    " \n",
    "class LayerNormalization(tf.keras.layers.Layer):\n",
    "    def __init__(self, epsilon=0.001, **kwargs):\n",
    "        super().__init__(**kwargs)\n",
    "        self.epsilon = epsilon  # 用于避免除以零的小常数\n",
    "    \n",
    "    def build(self, input_shape):\n",
    "        self.alpha = self.add_weight(\n",
    "            name='alpha',\n",
    "            shape=input_shape[-1:],\n",
    "            initializer='ones', \n",
    "            trainable=True,\n",
    "            dtype=tf.float32\n",
    "        )\n",
    "        \n",
    "        self.beta = self.add_weight(\n",
    "            name='beta',\n",
    "            shape=input_shape[-1:],\n",
    "            initializer='zeros', \n",
    "            trainable=True,\n",
    "            dtype=tf.float32\n",
    "        )\n",
    "        super().build(input_shape)\n",
    "    \n",
    "    def call(self, inputs):\n",
    "        mean, variance = tf.nn.moments(inputs, axes=-1, keepdims=True)\n",
    "        normalized = (inputs - mean) / tf.sqrt(variance + self.epsilon)\n",
    "        output = self.alpha * normalized + self.beta\n",
    "        return output\n",
    "    \n",
    "    def get_config(self):\n",
    "        config = super().get_config()\n",
    "        config.update({'epsilon': self.epsilon})\n",
    "        return config\n"
   ]
  },
  {
   "cell_type": "code",
   "execution_count": 3,
   "outputs": [
    {
     "name": "stdout",
     "output_type": "stream",
     "text": [
      "allclose: False\n"
     ]
    }
   ],
   "source": [
    "import numpy as np\n",
    "\n",
    "inputs = np.random.randn(32, 10).astype(np.float32)\n",
    "\n",
    "custom_layer = LayerNormalization()\n",
    "custom_output = custom_layer(inputs)\n",
    "\n",
    "keras_layer = tf.keras.layers.LayerNormalization()\n",
    "keras_output = keras_layer(inputs)\n",
    "\n",
    "print(\"allclose:\", np.allclose(custom_output.numpy(), keras_output.numpy()))"
   ],
   "metadata": {
    "collapsed": false,
    "ExecuteTime": {
     "end_time": "2025-09-17T08:24:09.761791200Z",
     "start_time": "2025-09-17T08:24:09.607388400Z"
    }
   },
   "id": "98302cef3b863643"
  },
  {
   "cell_type": "markdown",
   "source": [],
   "metadata": {
    "collapsed": false
   },
   "id": "667bc7abd3087233"
  },
  {
   "cell_type": "code",
   "execution_count": 4,
   "outputs": [],
   "source": [
    "from sklearn.model_selection import train_test_split\n",
    "import tensorflow as tf\n",
    "import numpy as np\n",
    "from tensorflow import keras as ks\n",
    " \n",
    "# 1. 加载Fashion MNIST数据集\n",
    "(x_train, y_train), (x_test, y_test) = ks.datasets.fashion_mnist.load_data()\n",
    "x_train = x_train.reshape(x_train.shape[0],-1).astype('float32') / 255.0 \n",
    "x_test = x_test.reshape(x_test.shape[0],-1).astype('float32') / 255.0\n",
    "x_train, x_val, y_train, y_val = train_test_split(x_train, y_train, test_size=0.2, random_state=42)\n",
    "\n",
    "train_dataset = tf.data.Dataset.from_tensor_slices((x_train, y_train)).batch(64)\n",
    "val_dataset = tf.data.Dataset.from_tensor_slices((x_val, y_val)).batch(64)\n",
    "test_dataset = tf.data.Dataset.from_tensor_slices((x_test, y_test)).batch(64)"
   ],
   "metadata": {
    "collapsed": false,
    "ExecuteTime": {
     "end_time": "2025-09-17T08:24:11.051366500Z",
     "start_time": "2025-09-17T08:24:09.766303100Z"
    }
   },
   "id": "bcc25f1a17cab7b5"
  },
  {
   "cell_type": "code",
   "execution_count": 8,
   "outputs": [],
   "source": [
    "class MNIST_train_model(ks.Model):\n",
    "    def __init__(self, class_num = 10, num_layers = 5, **kwargs):\n",
    "        super().__init__(**kwargs)\n",
    "        self.class_num = class_num\n",
    "        self.num_layers = num_layers\n",
    "        self.model_layers = ks.models.Sequential(\n",
    "            [ks.layers.Dense(32, activation=ks.activations.gelu) for _ in range(num_layers)]+\n",
    "            [ks.layers.Dense(class_num, activation='softmax'),\n",
    "            ks.layers.Dense(class_num)\n",
    "        ]) \n",
    "    \n",
    "    def bulid(self, input_shape):\n",
    "        super().build(input_shape)\n",
    "    \n",
    "    def call(self, inputs):\n",
    "        out = self.model_layers(inputs)\n",
    "        return out\n",
    "\n",
    "model = MNIST_train_model()"
   ],
   "metadata": {
    "collapsed": false,
    "ExecuteTime": {
     "end_time": "2025-09-17T08:27:53.104393Z",
     "start_time": "2025-09-17T08:27:53.065480500Z"
    }
   },
   "id": "345572a567e5eed3"
  },
  {
   "cell_type": "code",
   "execution_count": 18,
   "outputs": [
    {
     "name": "stdout",
     "output_type": "stream",
     "text": [
      "\n",
      "Epoch 1/10\n",
      "Train Loss: 0.17046, Train Acc: 94.35625%, Val Loss: 0.50451, Val Acc: 86.43333%\n",
      "\n",
      "Epoch 2/10\n",
      "Train Loss: 0.17060, Train Acc: 94.28125%, Val Loss: 0.51674, Val Acc: 86.03333%\n",
      "\n",
      "Epoch 3/10\n",
      "Train Loss: 0.17507, Train Acc: 94.15833%, Val Loss: 0.51835, Val Acc: 86.32500%\n",
      "\n",
      "Epoch 4/10\n",
      "Train Loss: 0.16916, Train Acc: 94.31875%, Val Loss: 0.54342, Val Acc: 85.88333%\n",
      "\n",
      "Epoch 5/10\n",
      "Train Loss: 0.18866, Train Acc: 93.74375%, Val Loss: 0.50308, Val Acc: 86.50833%\n",
      "\n",
      "Epoch 6/10\n",
      "Train Loss: 0.16708, Train Acc: 94.34792%, Val Loss: 0.52782, Val Acc: 86.26667%\n",
      "\n",
      "Epoch 7/10\n",
      "Train Loss: 0.17117, Train Acc: 94.30208%, Val Loss: 0.50969, Val Acc: 86.70833%\n",
      "\n",
      "Epoch 8/10\n",
      "Train Loss: 0.16489, Train Acc: 94.53958%, Val Loss: 0.50624, Val Acc: 86.68333%\n",
      "\n",
      "Epoch 9/10\n",
      "Train Loss: 0.15944, Train Acc: 94.65417%, Val Loss: 0.50340, Val Acc: 86.87500%\n",
      "\n",
      "Epoch 10/10\n",
      "Train Loss: 0.16515, Train Acc: 94.54584%, Val Loss: 0.52527, Val Acc: 86.19167%\n"
     ]
    },
    {
     "data": {
      "text/plain": "<Figure size 1200x500 with 2 Axes>",
      "image/png": "[encoded data removed]"
     },
     "metadata": {},
     "output_type": "display_data"
    },
    {
     "name": "stdout",
     "output_type": "stream",
     "text": [
      "Test Loss: 0.54438, Test Accuracy: 85.83000%\n"
     ]
    }
   ],
   "source": [
    "from matplotlib import pyplot as plt\n",
    "\n",
    "model.bulid(input_shape=(None, x_train.shape[1]))\n",
    " \n",
    "optimizer_features = ks.optimizers.Adam(learning_rate=0.001)\n",
    "\n",
    "def evaluate_model(model, dataset):\n",
    "    loss_func = ks.losses.SparseCategoricalCrossentropy(from_logits=True)\n",
    "    loss_avg = tf.keras.metrics.Mean()\n",
    "    accuracy = tf.keras.metrics.SparseCategoricalAccuracy()\n",
    "\n",
    "    for x_batch, y_batch in dataset:\n",
    "        logits = model(x_batch, training=False)\n",
    "        loss_value = loss_func(y_batch, logits)\n",
    "\n",
    "        loss_avg.update_state(loss_value)\n",
    "        accuracy.update_state(y_batch, logits)\n",
    "\n",
    "    return loss_avg.result().numpy(), accuracy.result().numpy()\n",
    "    \n",
    "def train_model(model, train_dataset, val_dataset, num_epochs=10, patience=3, early_stop=True, early_stop_value=0.001):\n",
    "    loss_func = ks.losses.SparseCategoricalCrossentropy(from_logits=True)\n",
    "    feature_vars = model.model_layers.trainable_variables\n",
    "    \n",
    "    train_loss_history = []\n",
    "    train_acc_history = []\n",
    "    val_loss_history = []\n",
    "    val_acc_history = []\n",
    "    \n",
    "    for epoch in range(num_epochs):\n",
    "        print(f\"\\nEpoch {epoch+1}/{num_epochs}\")\n",
    "        epoch_loss_avg = tf.keras.metrics.Mean()\n",
    "        epoch_accuracy = tf.keras.metrics.SparseCategoricalAccuracy()\n",
    "        \n",
    "        for step, (x_batch_train, y_batch_train) in enumerate(train_dataset):\n",
    "            with tf.GradientTape() as features_tape:\n",
    "\n",
    "                logits = model(x_batch_train, training=True)\n",
    "                loss_value = loss_func(y_batch_train, logits)\n",
    "            \n",
    "            # 计算梯度\n",
    "            features_grads = features_tape.gradient(loss_value, feature_vars)\n",
    "            \n",
    "            # 分别应用梯度\n",
    "            optimizer_features.apply_gradients(zip(features_grads, feature_vars))\n",
    "            \n",
    "            # 更新指标\n",
    "            epoch_loss_avg.update_state(loss_value)\n",
    "            epoch_accuracy.update_state(y_batch_train, logits)\n",
    "        \n",
    "        # 记录训练结束时的指标\n",
    "        train_loss = epoch_loss_avg.result().numpy()\n",
    "        train_acc = epoch_accuracy.result().numpy()\n",
    "        train_loss_history.append(train_loss)\n",
    "        train_acc_history.append(train_acc)\n",
    "        \n",
    "        val_loss, val_acc = evaluate_model(model, val_dataset)\n",
    "        val_loss_history.append(val_loss)\n",
    "        val_acc_history.append(val_acc)\n",
    "        \n",
    "        print(f'Train Loss: {train_loss:.5f}, Train Acc: {train_acc*100:.5f}%, '\n",
    "              f'Val Loss: {val_loss:.5f}, Val Acc: {val_acc*100:.5f}%')\n",
    "        if early_stop:\n",
    "            count = 0\n",
    "            max_val_acc = 0\n",
    "            if val_acc > max_val_acc:\n",
    "                max_val_acc = val_acc\n",
    "            if val_acc - max_val_acc < early_stop_value:\n",
    "                count += 1\n",
    "            else:\n",
    "                count = 0\n",
    "            if count >= patience:\n",
    "                return train_loss_history, train_acc_history, val_loss_history, val_acc_history\n",
    "\n",
    "    return train_loss_history, train_acc_history, val_loss_history, val_acc_history\n",
    " \n",
    "num_epochs = 10\n",
    "train_loss, train_acc, val_loss, val_acc = train_model(model, train_dataset, val_dataset, num_epochs)\n",
    " \n",
    "plt.figure(figsize=(12, 5))\n",
    "plt.subplot(1, 2, 1)\n",
    "plt.plot(train_loss, label='Train Loss')\n",
    "plt.plot(val_loss, label='Validation Loss')\n",
    "plt.xlabel('Epoch')\n",
    "plt.ylabel('Loss')\n",
    "plt.legend()\n",
    " \n",
    "plt.subplot(1, 2, 2)\n",
    "plt.plot(train_acc, label='Train Accuracy')\n",
    "plt.plot(val_acc, label='Validation Accuracy')\n",
    "plt.xlabel('Epoch')\n",
    "plt.ylabel('Accuracy')\n",
    "plt.legend()\n",
    "plt.show()\n",
    " \n",
    "test_loss, test_acc = evaluate_model(model, test_dataset)\n",
    "print(f'Test Loss: {test_loss:.5f}, Test Accuracy: {test_acc*100:.5f}%')"
   ],
   "metadata": {
    "collapsed": false,
    "ExecuteTime": {
     "end_time": "2025-09-17T08:58:06.488067500Z",
     "start_time": "2025-09-17T08:56:22.907224800Z"
    }
   },
   "id": "69af5eb51927029"
  }
 ],
 "metadata": {
  "kernelspec": {
   "display_name": "Python 3",
   "language": "python",
   "name": "python3"
  },
  "language_info": {
   "codemirror_mode": {
    "name": "ipython",
    "version": 2
   },
   "file_extension": ".py",
   "mimetype": "text/x-python",
   "name": "python",
   "nbconvert_exporter": "python",
   "pygments_lexer": "ipython2",
   "version": "2.7.6"
  }
 },
 "nbformat": 4,
 "nbformat_minor": 5
}
